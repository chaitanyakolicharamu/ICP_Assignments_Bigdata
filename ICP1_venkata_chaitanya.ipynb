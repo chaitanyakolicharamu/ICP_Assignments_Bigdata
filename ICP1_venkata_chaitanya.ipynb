{
  "nbformat": 4,
  "nbformat_minor": 0,
  "metadata": {
    "colab": {
      "provenance": [],
      "authorship_tag": "ABX9TyN/CnWzb8Ta+KxK3NVXSVuV",
      "include_colab_link": true
    },
    "kernelspec": {
      "name": "python3",
      "display_name": "Python 3"
    },
    "language_info": {
      "name": "python"
    }
  },
  "cells": [
    {
      "cell_type": "markdown",
      "metadata": {
        "id": "view-in-github",
        "colab_type": "text"
      },
      "source": [
        "<a href=\"https://colab.research.google.com/github/chaitanyakolicharamu/ICP_Assignments_Bigdata/blob/main/ICP1_venkata_chaitanya.ipynb\" target=\"_parent\"><img src=\"https://colab.research.google.com/assets/colab-badge.svg\" alt=\"Open In Colab\"/></a>"
      ]
    },
    {
      "cell_type": "code",
      "execution_count": null,
      "metadata": {
        "colab": {
          "base_uri": "https://localhost:8080/"
        },
        "id": "9Z3VujIfbXLK",
        "outputId": "744509f5-8319-4add-f127-fe6d976de438"
      },
      "outputs": [
        {
          "output_type": "stream",
          "name": "stdout",
          "text": [
            "Mounted at /content/drive\n"
          ]
        }
      ],
      "source": [
        "from google.colab import drive\n",
        "drive.mount('/content/drive')\n"
      ]
    },
    {
      "cell_type": "code",
      "source": [
        "chars = list(input(\"Enter the string (e.g. python): \").strip())\n",
        "# Delete 'o' and 'n' at indexes 4 and 5 (if length allows)\n",
        "if len(chars) > 5:\n",
        "    del chars[5]  # delete 'n' at last position\n",
        "    del chars[4]  # delete 'o' just before last\n",
        "result = ''.join(chars[::-1])\n",
        "print(\"Output:\", result)\n",
        "\n"
      ],
      "metadata": {
        "id": "E_Oj53TAdxb1",
        "colab": {
          "base_uri": "https://localhost:8080/"
        },
        "outputId": "fca920af-b4d2-49ff-87ac-0888dce40ae4"
      },
      "execution_count": 11,
      "outputs": [
        {
          "output_type": "stream",
          "name": "stdout",
          "text": [
            "Enter the string (e.g. python): python\n",
            "Output: htyp\n"
          ]
        }
      ]
    },
    {
      "cell_type": "code",
      "source": [
        "3\n",
        "a = float(input(\"Enter first number: \"))\n",
        "b = float(input(\"Enter second number: \"))\n",
        "\n",
        "print(\"Addition:\", a + b)\n",
        "print(\"Subtraction:\", a - b)\n",
        "print(\"Multiplication:\", a * b)\n",
        "print(\"Division:\", a / b if b != 0 else \"Cannot divide by zero\")\n"
      ],
      "metadata": {
        "id": "qNBWN8RtemyC",
        "colab": {
          "base_uri": "https://localhost:8080/"
        },
        "outputId": "95ed245b-dd20-477f-d11b-e7cb1751ed4e"
      },
      "execution_count": 9,
      "outputs": [
        {
          "output_type": "stream",
          "name": "stdout",
          "text": [
            "Enter first number: 1\n",
            "Enter second number: 2\n",
            "Addition: 3.0\n",
            "Subtraction: -1.0\n",
            "Multiplication: 2.0\n",
            "Division: 0.5\n"
          ]
        }
      ]
    },
    {
      "cell_type": "code",
      "source": [
        "sentence = input(\"Enter a sentence: \")\n",
        "# Replace 'python' with 'pythons'\n",
        "new_sentence = sentence.replace(\"python\", \"pythons\")\n",
        "print(\"Updated sentence:\", new_sentence)\n"
      ],
      "metadata": {
        "id": "f6RiAO3UenNZ",
        "colab": {
          "base_uri": "https://localhost:8080/"
        },
        "outputId": "a3c97750-e925-4706-a91c-255a213e0cca"
      },
      "execution_count": 12,
      "outputs": [
        {
          "output_type": "stream",
          "name": "stdout",
          "text": [
            "Enter a sentence: i love python\n",
            "Updated sentence: i love pythons\n"
          ]
        }
      ]
    },
    {
      "cell_type": "code",
      "source": [
        "score = float(input(\"Enter your score: \"))\n",
        "\n",
        "# Decide grade based on score\n",
        "if score >= 90:\n",
        "    print(\"Grade: A\")\n",
        "elif score >= 80:\n",
        "    print(\"Grade: B\")\n",
        "elif score >= 70:\n",
        "    print(\"Grade: C\")\n",
        "elif score >= 60:\n",
        "    print(\"Grade: D\")\n",
        "else:\n",
        "    print(\"Grade: F\")\n"
      ],
      "metadata": {
        "colab": {
          "base_uri": "https://localhost:8080/"
        },
        "id": "UTJEOYQxgGEg",
        "outputId": "1ca76a04-0548-438d-8fa4-46a3c13df3bc"
      },
      "execution_count": 13,
      "outputs": [
        {
          "output_type": "stream",
          "name": "stdout",
          "text": [
            "Enter your score: 25\n",
            "Grade: F\n"
          ]
        }
      ]
    },
    {
      "cell_type": "code",
      "source": [
        "# Given list\n",
        "x = [23, 'Python', 23.98]\n",
        "\n",
        "# Create a list of types\n",
        "types = [type(item) for item in x]\n",
        "\n",
        "# Print original list and types\n",
        "print(\"List:\", x)\n",
        "print(\"Types:\", types)\n"
      ],
      "metadata": {
        "colab": {
          "base_uri": "https://localhost:8080/"
        },
        "id": "7DsEhCqEgQIC",
        "outputId": "af4a6178-2e42-4bd8-d6aa-d4fa4116bef6"
      },
      "execution_count": 14,
      "outputs": [
        {
          "output_type": "stream",
          "name": "stdout",
          "text": [
            "List: [23, 'Python', 23.98]\n",
            "Types: [<class 'int'>, <class 'str'>, <class 'float'>]\n"
          ]
        }
      ]
    },
    {
      "cell_type": "code",
      "source": [
        "# Sets and lists given\n",
        "IT_companies = {'Facebook', 'Google', 'Microsoft', 'Apple', 'IBM', 'Oracle', 'Amazon'}\n",
        "A = {19, 22, 24, 20, 25, 26}\n",
        "B = {19, 22, 20, 25, 26, 24, 28, 27}\n",
        "age = [22, 19, 24, 25, 26, 24, 25, 24]\n",
        "\n",
        "# 1. Length of IT_companies\n",
        "print(\"Number of IT companies:\", len(IT_companies))\n",
        "\n",
        "# 2. Add 'Twitter'\n",
        "IT_companies.add('Twitter')\n",
        "print(\"After adding Twitter:\", IT_companies)\n",
        "\n",
        "# 3. Add multiple companies\n",
        "IT_companies.update(['LinkedIn', 'Snapchat'])\n",
        "print(\"After adding more companies:\", IT_companies)\n",
        "\n",
        "# 4. Remove one company\n",
        "IT_companies.remove('IBM')  # Use discard if you're unsure\n",
        "print(\"After removing IBM:\", IT_companies)\n",
        "\n",
        "# 5. Difference between remove and discard\n",
        "print(\"Note: remove() gives error if item not found, discard() does not.\")\n",
        "\n",
        "# 6. Join A and B\n",
        "print(\"A union B:\", A.union(B))\n",
        "\n",
        "# 7. Intersection of A and B\n",
        "print(\"A intersection B:\", A.intersection(B))\n",
        "\n",
        "# 8. Check if A is a subset of B\n",
        "print(\"Is A a subset of B?\", A.issubset(B))\n",
        "\n",
        "# 9. Check if A and B are disjoint\n",
        "print(\"Are A and B disjoint?\", A.isdisjoint(B))\n",
        "\n",
        "# 10. Join A with B and B with A\n",
        "print(\"A | B:\", A | B)\n",
        "print(\"B | A:\", B | A)\n",
        "\n",
        "# 11. Symmetric difference between A and B\n",
        "print(\"Symmetric difference:\", A.symmetric_difference(B))\n",
        "\n",
        "# 12. Delete sets completely\n",
        "del A\n",
        "del B\n",
        "# print(A)  # Uncommenting will cause an error because A is deleted\n",
        "\n",
        "# 13. Convert age list to set and compare lengths\n",
        "age_set = set(age)\n",
        "print(\"Length of age list:\", len(age))\n",
        "print(\"Length of age set:\", len(age_set))\n"
      ],
      "metadata": {
        "colab": {
          "base_uri": "https://localhost:8080/"
        },
        "id": "PzF6iHJggclF",
        "outputId": "0b535409-d795-4866-c8ac-5179cb625b14"
      },
      "execution_count": 15,
      "outputs": [
        {
          "output_type": "stream",
          "name": "stdout",
          "text": [
            "Number of IT companies: 7\n",
            "After adding Twitter: {'Facebook', 'Microsoft', 'Apple', 'Amazon', 'Twitter', 'IBM', 'Oracle', 'Google'}\n",
            "After adding more companies: {'Google', 'Oracle', 'LinkedIn', 'Twitter', 'Snapchat', 'Apple', 'Amazon', 'IBM', 'Facebook', 'Microsoft'}\n",
            "After removing IBM: {'Google', 'Oracle', 'LinkedIn', 'Twitter', 'Snapchat', 'Apple', 'Amazon', 'Facebook', 'Microsoft'}\n",
            "Note: remove() gives error if item not found, discard() does not.\n",
            "A union B: {19, 20, 22, 24, 25, 26, 27, 28}\n",
            "A intersection B: {19, 20, 22, 24, 25, 26}\n",
            "Is A a subset of B? True\n",
            "Are A and B disjoint? False\n",
            "A | B: {19, 20, 22, 24, 25, 26, 27, 28}\n",
            "B | A: {19, 20, 22, 24, 25, 26, 27, 28}\n",
            "Symmetric difference: {27, 28}\n",
            "Length of age list: 8\n",
            "Length of age set: 5\n"
          ]
        }
      ]
    }
  ]
}