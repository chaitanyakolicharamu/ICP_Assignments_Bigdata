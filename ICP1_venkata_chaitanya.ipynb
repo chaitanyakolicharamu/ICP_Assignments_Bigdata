{
  "nbformat": 4,
  "nbformat_minor": 0,
  "metadata": {
    "colab": {
      "provenance": [],
      "authorship_tag": "ABX9TyOTqgo00fxjmMrK/i/beoLa",
      "include_colab_link": true
    },
    "kernelspec": {
      "name": "python3",
      "display_name": "Python 3"
    },
    "language_info": {
      "name": "python"
    }
  },
  "cells": [
    {
      "cell_type": "markdown",
      "metadata": {
        "id": "view-in-github",
        "colab_type": "text"
      },
      "source": [
        "<a href=\"https://colab.research.google.com/github/chaitanyakolicharamu/ICP_Assignments_Bigdata/blob/main/ICP1_venkata_chaitanya.ipynb\" target=\"_parent\"><img src=\"https://colab.research.google.com/assets/colab-badge.svg\" alt=\"Open In Colab\"/></a>"
      ]
    },
    {
      "cell_type": "code",
      "execution_count": 2,
      "metadata": {
        "colab": {
          "base_uri": "https://localhost:8080/"
        },
        "id": "9Z3VujIfbXLK",
        "outputId": "ad8985a7-3561-4c2e-dfd3-e601a7655ad3"
      },
      "outputs": [
        {
          "output_type": "stream",
          "name": "stdout",
          "text": [
            "Mounted at /content/drive\n"
          ]
        }
      ],
      "source": [
        "from google.colab import drive\n",
        "drive.mount('/content/drive')\n"
      ]
    },
    {
      "cell_type": "code",
      "source": [
        "chars = list(input(\"Enter the string (e.g. python): \").strip())\n",
        "if len(chars) > 5:\n",
        "    del chars[5]\n",
        "    del chars[4]\n",
        "result = ''.join(chars[::-1])\n",
        "print(\"Output:\", result)\n",
        "\n"
      ],
      "metadata": {
        "id": "E_Oj53TAdxb1",
        "colab": {
          "base_uri": "https://localhost:8080/"
        },
        "outputId": "71c93cb1-69b6-4df4-b1a9-33fdc3952a76"
      },
      "execution_count": 24,
      "outputs": [
        {
          "output_type": "stream",
          "name": "stdout",
          "text": [
            "Enter the string (e.g. python): venkat\n",
            "Output: knev\n"
          ]
        }
      ]
    },
    {
      "cell_type": "code",
      "source": [
        "3\n",
        "a = float(input(\"Enter first number: \"))\n",
        "b = float(input(\"Enter second number: \"))\n",
        "\n",
        "print(\"Addition:\", a + b)\n",
        "print(\"Subtraction:\", a - b)\n",
        "print(\"Multiplication:\", a * b)\n",
        "print(\"Division:\", a / b if b != 0 else \"Cannot divide by zero\")\n"
      ],
      "metadata": {
        "id": "qNBWN8RtemyC",
        "colab": {
          "base_uri": "https://localhost:8080/"
        },
        "outputId": "eae11ad0-7e84-47bb-c2e1-4b716c85ca78"
      },
      "execution_count": 25,
      "outputs": [
        {
          "output_type": "stream",
          "name": "stdout",
          "text": [
            "Enter first number: 7\n",
            "Enter second number: 9\n",
            "Addition: 16.0\n",
            "Subtraction: -2.0\n",
            "Multiplication: 63.0\n",
            "Division: 0.7777777777777778\n"
          ]
        }
      ]
    },
    {
      "cell_type": "code",
      "source": [
        "sentence = input(\"Enter a sentence: \")\n",
        "new_sentence = sentence.replace(\"python\", \"pythons\")\n",
        "print(\"Updated sentence:\", new_sentence)\n"
      ],
      "metadata": {
        "id": "f6RiAO3UenNZ",
        "colab": {
          "base_uri": "https://localhost:8080/"
        },
        "outputId": "6c0b39b3-e307-4308-e26b-749baa1c7773"
      },
      "execution_count": 26,
      "outputs": [
        {
          "output_type": "stream",
          "name": "stdout",
          "text": [
            "Enter a sentence: i love to code in python\n",
            "Updated sentence: i love to code in pythons\n"
          ]
        }
      ]
    },
    {
      "cell_type": "code",
      "source": [
        "score = float(input(\"Enter your score: \"))\n",
        "\n",
        "if score >= 90:\n",
        "    print(\"Grade: A\")\n",
        "elif score >= 80:\n",
        "    print(\"Grade: B\")\n",
        "elif score >= 70:\n",
        "    print(\"Grade: C\")\n",
        "elif score >= 60:\n",
        "    print(\"Grade: D\")\n",
        "else:\n",
        "    print(\"Grade: F\")\n"
      ],
      "metadata": {
        "colab": {
          "base_uri": "https://localhost:8080/"
        },
        "id": "UTJEOYQxgGEg",
        "outputId": "e9963ee2-36c7-4872-8354-de564f370d09"
      },
      "execution_count": 27,
      "outputs": [
        {
          "output_type": "stream",
          "name": "stdout",
          "text": [
            "Enter your score: 77\n",
            "Grade: C\n"
          ]
        }
      ]
    },
    {
      "cell_type": "code",
      "source": [
        "\n",
        "x = [23, 'Python', 2.98]\n",
        "\n",
        "types = [type(item) for item in x]\n",
        "\n",
        "\n",
        "print(\"List:\", x)\n",
        "print(\"Types:\", types)\n"
      ],
      "metadata": {
        "colab": {
          "base_uri": "https://localhost:8080/"
        },
        "id": "7DsEhCqEgQIC",
        "outputId": "d7690694-190f-4042-8c50-10bc5a56ecd3"
      },
      "execution_count": 28,
      "outputs": [
        {
          "output_type": "stream",
          "name": "stdout",
          "text": [
            "List: [23, 'Python', 2.98]\n",
            "Types: [<class 'int'>, <class 'str'>, <class 'float'>]\n"
          ]
        }
      ]
    },
    {
      "cell_type": "code",
      "source": [
        "\n",
        "IT_companies = {'Facebook', 'Google', 'Microsoft', 'Apple', 'IBM', 'Oracle', 'Amazon'}\n",
        "A = {19, 22, 24, 20, 25, 26}\n",
        "B = {19, 22, 20, 25, 26, 24, 28, 27}\n",
        "age = [22, 19, 24, 25, 26, 24, 25, 24]\n",
        "\n",
        "\n",
        "print(\"Number of IT companies:\", len(IT_companies))\n",
        "\n",
        "\n",
        "IT_companies.add('Twitter')\n",
        "print(\"After adding Twitter:\", IT_companies)\n",
        "\n",
        "\n",
        "IT_companies.update(['LinkedIn', 'Snapchat'])\n",
        "print(\"After adding more companies:\", IT_companies)\n",
        "\n",
        "\n",
        "IT_companies.remove('IBM')\n",
        "print(\"After removing IBM:\", IT_companies)\n",
        "\n",
        "\n",
        "print(\"Note: remove() gives error if item not found, discard() does not.\")\n",
        "\n",
        "\n",
        "print(\"A union B:\", A.union(B))\n",
        "\n",
        "\n",
        "print(\"A intersection B:\", A.intersection(B))\n",
        "\n",
        "\n",
        "print(\"Is A a subset of B?\", A.issubset(B))\n",
        "\n",
        "\n",
        "print(\"Are A and B disjoint?\", A.isdisjoint(B))\n",
        "\n",
        "\n",
        "print(\"A | B:\", A | B)\n",
        "print(\"B | A:\", B | A)\n",
        "\n",
        "\n",
        "print(\"Symmetric difference:\", A.symmetric_difference(B))\n",
        "\n",
        "\n",
        "del A\n",
        "del B\n",
        "\n",
        "\n",
        "\n",
        "age_set = set(age)\n",
        "print(\"Length of age list:\", len(age))\n",
        "print(\"Length of age set:\", len(age_set))\n"
      ],
      "metadata": {
        "colab": {
          "base_uri": "https://localhost:8080/"
        },
        "id": "PzF6iHJggclF",
        "outputId": "88338e52-0d32-4acc-f141-308617009c6c"
      },
      "execution_count": 11,
      "outputs": [
        {
          "output_type": "stream",
          "name": "stdout",
          "text": [
            "Number of IT companies: 7\n",
            "After adding Twitter: {'Oracle', 'Apple', 'Twitter', 'Google', 'Microsoft', 'IBM', 'Facebook', 'Amazon'}\n",
            "After adding more companies: {'Oracle', 'Snapchat', 'LinkedIn', 'IBM', 'Apple', 'Google', 'Microsoft', 'Twitter', 'Facebook', 'Amazon'}\n",
            "After removing IBM: {'Oracle', 'Snapchat', 'LinkedIn', 'Apple', 'Google', 'Microsoft', 'Twitter', 'Facebook', 'Amazon'}\n",
            "Note: remove() gives error if item not found, discard() does not.\n",
            "A union B: {19, 20, 22, 24, 25, 26, 27, 28}\n",
            "A intersection B: {19, 20, 22, 24, 25, 26}\n",
            "Is A a subset of B? True\n",
            "Are A and B disjoint? False\n",
            "A | B: {19, 20, 22, 24, 25, 26, 27, 28}\n",
            "B | A: {19, 20, 22, 24, 25, 26, 27, 28}\n",
            "Symmetric difference: {27, 28}\n",
            "Length of age list: 8\n",
            "Length of age set: 5\n"
          ]
        }
      ]
    },
    {
      "cell_type": "markdown",
      "source": [
        "## 📽️ Demo Video\n",
        "\n",
        "You can view the demo video for this assignment at the link below:\n",
        "\n",
        "🔗 [Watch Demo Video](https://drive.google.com/file/d/1zYglrgaZb23Pnpn96u4g3YKJF6oNIV7C/view)\n"
      ],
      "metadata": {
        "id": "cyoe56z9J_qV"
      }
    }
  ]
}